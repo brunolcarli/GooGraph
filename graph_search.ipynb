{
 "cells": [
  {
   "cell_type": "code",
   "execution_count": 1,
   "id": "b6f42393",
   "metadata": {},
   "outputs": [],
   "source": [
    "# Run this cell if used libraries are missing\n",
    "# !pip install pyvis"
   ]
  },
  {
   "cell_type": "code",
   "execution_count": 2,
   "id": "8a52b2d6",
   "metadata": {},
   "outputs": [],
   "source": [
    "from pyvis.network import Network\n",
    "import pandas as pd"
   ]
  },
  {
   "cell_type": "markdown",
   "id": "6eed489d",
   "metadata": {},
   "source": [
    "## Graph Construction\n",
    "\n",
    "A graph is a network of points called nodes or **vertices**, which are connected by lines called **edges**.\n",
    "\n",
    "In python we can represent a graph network from a builtin dictionary type. The dict keys represent the vertices and the dict the value lists the vertice connections, ore in other words, the edges of the node."
   ]
  },
  {
   "cell_type": "code",
   "execution_count": 3,
   "id": "8e90aa70",
   "metadata": {
    "scrolled": true
   },
   "outputs": [
    {
     "data": {
      "text/html": [
       "\n",
       "        <iframe\n",
       "            width=\"100%\"\n",
       "            height=\"350px\"\n",
       "            src=\"sample_net.html\"\n",
       "            frameborder=\"0\"\n",
       "            allowfullscreen\n",
       "        ></iframe>\n",
       "        "
      ],
      "text/plain": [
       "<IPython.lib.display.IFrame at 0x7f0619dd0e50>"
      ]
     },
     "execution_count": 3,
     "metadata": {},
     "output_type": "execute_result"
    }
   ],
   "source": [
    "# Graph construction\n",
    "sample_graph = {\n",
    "    'A': ['B', 'C', 'E'],\n",
    "    'B': ['A', 'D'],\n",
    "    'C': ['A'],\n",
    "    'D': ['B', 'E'],\n",
    "    'E': ['D', 'A']\n",
    "}\n",
    "\n",
    "# Graph visualization\n",
    "sample_net = Network(\n",
    "    height='350px',\n",
    "    width='100%',\n",
    "    bgcolor='#222222',\n",
    "    font_color='white',\n",
    "    notebook=True\n",
    ")\n",
    "# Add nodes to the network graph\n",
    "for node in sample_graph:\n",
    "    sample_net.add_node(node, node, title=node)\n",
    "    \n",
    "# link nodes with edges\n",
    "for node, edges in sample_graph.items():\n",
    "    for edge in edges:\n",
    "        sample_net.add_edge(node, edge, value=node)\n",
    "\n",
    "# View graph\n",
    "sample_net.show('sample_net.html')"
   ]
  },
  {
   "cell_type": "markdown",
   "id": "070803d4",
   "metadata": {},
   "source": [
    "pyvis output:\n",
    "\n",
    "![pyvis_out_1](https://i.ibb.co/tJ2h05r/Screenshot-at-2022-03-22-18-03-24.png)"
   ]
  },
  {
   "cell_type": "markdown",
   "id": "f6439638",
   "metadata": {},
   "source": [
    "This is a very simple and rustic way to do this, let us use a `class` and allow a better manipulation with methods to add and remove nodes and edges. This is a more elegant ~~weapon~~ tool for a more civilized ~~age~~ code\n",
    "\n",
    "![reference_1](https://encrypted-tbn0.gstatic.com/images?q=tbn:ANd9GcTSA9gQ3twqfMy6VwedEGtd7eAwzoFsKiUl0brRY0acV6qj_RoJJe917mCeWLJDPQJ83fo&usqp=CAU)"
   ]
  },
  {
   "cell_type": "code",
   "execution_count": 4,
   "id": "aa209a05",
   "metadata": {},
   "outputs": [],
   "source": [
    "class Graph:\n",
    "    def __init__(self, pydict):\n",
    "        self._data = pydict\n",
    "        self.net = Network(\n",
    "            height='350px',\n",
    "            width='100%',\n",
    "            bgcolor='#222222',\n",
    "            font_color='white',\n",
    "            notebook=True\n",
    "        )\n",
    "\n",
    "    def get_nodes(self):\n",
    "        \"\"\" return a list of all nodes \"\"\"\n",
    "        return list(self._data.keys())\n",
    "\n",
    "    def get_edges(self, node):\n",
    "        \"\"\" return a list of the edges from a node \"\"\"\n",
    "        return self._data.get(node)\n",
    "\n",
    "    def add_node(self, node, edges=None):\n",
    "        \"\"\" Add a node to graph \"\"\"\n",
    "        if not edges:\n",
    "            edges = []\n",
    "        if not isinstance(edges, list):\n",
    "            raise Exception('Edges must be a list')\n",
    "\n",
    "        self._data[node] = list(set(edges))  # enforce no duplicates\n",
    "        return self.get_nodes()\n",
    "\n",
    "    def add_edge(self, node, edge):\n",
    "        \"\"\" Link a node to a another \"\"\"\n",
    "        if node not in self._data:\n",
    "            self.add_node(node)\n",
    "\n",
    "        self._data[node].append(edge)\n",
    "        return self.get_edges(node)\n",
    "\n",
    "    def plot(self):\n",
    "        \"\"\" Plots the graph visualization \"\"\"\n",
    "\n",
    "        for node in self._data:\n",
    "            self.net.add_node(node, node, title=node)\n",
    "\n",
    "        for node, edges in self._data.items():\n",
    "            for edge in edges:\n",
    "                self.net.add_edge(node, edge, value=node)\n",
    "\n",
    "        return self.net.show('graph.html')"
   ]
  },
  {
   "cell_type": "code",
   "execution_count": 5,
   "id": "86f1aa88",
   "metadata": {},
   "outputs": [
    {
     "data": {
      "text/html": [
       "<style type=\"text/css\">\n",
       "</style>\n",
       "<table id=\"T_b1d04_\">\n",
       "  <thead>\n",
       "    <tr>\n",
       "      <th class=\"col_heading level0 col0\" >Node</th>\n",
       "      <th class=\"col_heading level0 col1\" >Edges</th>\n",
       "    </tr>\n",
       "  </thead>\n",
       "  <tbody>\n",
       "    <tr>\n",
       "      <td id=\"T_b1d04_row0_col0\" class=\"data row0 col0\" >A</td>\n",
       "      <td id=\"T_b1d04_row0_col1\" class=\"data row0 col1\" >['B', 'C', 'E']</td>\n",
       "    </tr>\n",
       "    <tr>\n",
       "      <td id=\"T_b1d04_row1_col0\" class=\"data row1 col0\" >B</td>\n",
       "      <td id=\"T_b1d04_row1_col1\" class=\"data row1 col1\" >['A', 'D']</td>\n",
       "    </tr>\n",
       "    <tr>\n",
       "      <td id=\"T_b1d04_row2_col0\" class=\"data row2 col0\" >C</td>\n",
       "      <td id=\"T_b1d04_row2_col1\" class=\"data row2 col1\" >['A']</td>\n",
       "    </tr>\n",
       "    <tr>\n",
       "      <td id=\"T_b1d04_row3_col0\" class=\"data row3 col0\" >D</td>\n",
       "      <td id=\"T_b1d04_row3_col1\" class=\"data row3 col1\" >['B', 'E']</td>\n",
       "    </tr>\n",
       "    <tr>\n",
       "      <td id=\"T_b1d04_row4_col0\" class=\"data row4 col0\" >E</td>\n",
       "      <td id=\"T_b1d04_row4_col1\" class=\"data row4 col1\" >['D', 'A']</td>\n",
       "    </tr>\n",
       "  </tbody>\n",
       "</table>\n"
      ],
      "text/plain": [
       "<pandas.io.formats.style.Styler at 0x7f0619b6c730>"
      ]
     },
     "execution_count": 5,
     "metadata": {},
     "output_type": "execute_result"
    }
   ],
   "source": [
    "# Create new Graph\n",
    "graph = Graph(sample_graph)\n",
    "\n",
    "# Bind nodes and respective edges to a table format\n",
    "data = []\n",
    "for node in graph.get_nodes():\n",
    "    data.append([node, graph.get_edges(node)])\n",
    "\n",
    "# Show table for better visualization\n",
    "pd.DataFrame(data, columns=['Node', 'Edges']).style.hide_index()"
   ]
  },
  {
   "cell_type": "code",
   "execution_count": 6,
   "id": "26abf476",
   "metadata": {},
   "outputs": [
    {
     "data": {
      "text/plain": [
       "['B']"
      ]
     },
     "execution_count": 6,
     "metadata": {},
     "output_type": "execute_result"
    }
   ],
   "source": [
    "# Add some more edges and nodes\n",
    "graph.add_node('Z')\n",
    "graph.add_node('W')\n",
    "graph.add_node('X')\n",
    "\n",
    "graph.add_edge('A', 'Z')\n",
    "graph.add_edge('W', 'Z')\n",
    "graph.add_edge('X', 'C')\n",
    "graph.add_edge('O', 'B')"
   ]
  },
  {
   "cell_type": "code",
   "execution_count": 7,
   "id": "c3dbe177",
   "metadata": {},
   "outputs": [
    {
     "data": {
      "text/html": [
       "\n",
       "        <iframe\n",
       "            width=\"100%\"\n",
       "            height=\"350px\"\n",
       "            src=\"graph.html\"\n",
       "            frameborder=\"0\"\n",
       "            allowfullscreen\n",
       "        ></iframe>\n",
       "        "
      ],
      "text/plain": [
       "<IPython.lib.display.IFrame at 0x7f0617facb20>"
      ]
     },
     "execution_count": 7,
     "metadata": {},
     "output_type": "execute_result"
    }
   ],
   "source": [
    "# plot graph\n",
    "graph.plot()"
   ]
  },
  {
   "cell_type": "markdown",
   "id": "ee12998e",
   "metadata": {},
   "source": [
    "pyvis oputput:\n",
    "\n",
    "![pyvis_out_2](https://i.ibb.co/9qhJDpD/Screenshot-at-2022-03-22-18-05-14.png)"
   ]
  },
  {
   "cell_type": "markdown",
   "id": "direct-superior",
   "metadata": {},
   "source": [
    "Thats nice ok, but is not very informative when abstracting to the real world, so let us make a fantasy abstraction to merge the usability ideas:\n",
    "\n",
    "Suppose we are in a magic land called **Highlands** with many folks living in their towns. One day in a one small town called **Case Town** where The **Case Folks** live. \n",
    "\n",
    "In a warm sunny day on this little town, a white **Snow Mage** who traveled from the far lands of the **Arcadia** comes to visit a little friend. The mage brought 7 little dwarf friends which are natural from the deep caves of **Loria**, with a proposal, to reach the mountains of **Vault Gisley** for a quest: \"to stole gold from a dragon\". There are many possible ways to reach the mountain, with many dangers in the way. They must choose the shortest path to reach the mountain.\n",
    "\n",
    "<br />\n",
    "\n",
    "![highlands_map](https://i.ibb.co/r4njkvT/highlands-map.png)\n",
    "\n",
    "<br />\n",
    "\n",
    "Let us set some distances levels to the edges that connect this magic land towns, we can do that from python by a dict of dicts:"
   ]
  },
  {
   "cell_type": "code",
   "execution_count": 8,
   "id": "dominant-allergy",
   "metadata": {},
   "outputs": [],
   "source": [
    "highlands_distances = {\n",
    "    'Case Town': {\n",
    "        'Case Town': 0,\n",
    "        'Alexandrea': 100,\n",
    "        'Por Town': 322\n",
    "    },\n",
    "    'Alexandrea': {\n",
    "        'Alexandrea': 0,\n",
    "        'Case Town': 100\n",
    "    },\n",
    "    'Por Town': {\n",
    "        'Por Town': 0,\n",
    "        'Case Town': 322,\n",
    "        'Fisherman House': 82,\n",
    "        'Loria': 476,\n",
    "        'Sonospla': 790\n",
    "    },\n",
    "    'Fisherman House': {\n",
    "        'Fisherman House': 0,\n",
    "        'Island Tower': 56,\n",
    "        'Por Town': 82\n",
    "    },\n",
    "    'Island Tower': {\n",
    "        'Island Tower': 0,\n",
    "        'Fisherman House': 56\n",
    "    },\n",
    "    'Loria': {\n",
    "        'Loria': 0,\n",
    "        'Por Town': 476,\n",
    "        'Sonospla': 54,\n",
    "        'Goblin Dew': 233\n",
    "    },\n",
    "    'Sonospla': {\n",
    "        'Sonospla': 0,\n",
    "        'Loria': 54,\n",
    "        'Por Town': 790,\n",
    "        'Caravan': 87,\n",
    "        'Desert Fortress': 80\n",
    "    },\n",
    "    'Caravan': {\n",
    "        'Caravan': 0,\n",
    "        'Sonospla': 87,\n",
    "        'Desert Fortress': 30,        \n",
    "    },\n",
    "    'Desert Fortress': {\n",
    "        'Desert Fortress': 0,\n",
    "        'Caravan': 30,\n",
    "        'Arcadia': 88,\n",
    "        'Malma City': 78,\n",
    "        'Sonospla': 80,\n",
    "        'Vault Gisley': 300\n",
    "    },\n",
    "    'Arcadia': {\n",
    "        'Arcadia': 0,\n",
    "        'Desert Fortress': 88,\n",
    "        'Malma City': 13,\n",
    "    },\n",
    "    'Malma City': {\n",
    "        'Malma City': 0,\n",
    "        'Arcadia': 13,\n",
    "        'Desert Fortress': 78,\n",
    "        'Vault Gisley': 234\n",
    "    },\n",
    "    'Goblin Dew': {\n",
    "        'Goblin Dew': 0,\n",
    "        'Loria': 233,\n",
    "        'Lokiana Town': 23,\n",
    "        'Elfenheim': 54,\n",
    "    },\n",
    "    'Lokiana Town': {\n",
    "        'Lokiana Town': 0,\n",
    "        'Goblin Dew': 23,\n",
    "        'Elfenheim': 10,\n",
    "        'Gomorra': 120\n",
    "    },\n",
    "    'Elfenheim': {\n",
    "        'Elfenheim': 0,\n",
    "        'Lokiana Town': 10,\n",
    "        'Goblin Dew': 54,\n",
    "        'Gomorra': 100\n",
    "    },\n",
    "    'Gomorra': {\n",
    "        'Gomorra': 0,\n",
    "        'Lokiana Town': 10,\n",
    "        'Elfenheim': 100,\n",
    "        'Orcs Camp': 30\n",
    "    },\n",
    "    'Orcs Camp': {\n",
    "        'Orcs Camp': 0,\n",
    "        'Gomorra': 30,\n",
    "        'Vault Gisley': 8\n",
    "    },\n",
    "    'Vault Gisley': {\n",
    "        'Vault Gisley': 0,\n",
    "        'Orcs Camp': 8,\n",
    "        'Desert Fortress': 300,\n",
    "        'Malma City': 234\n",
    "    }\n",
    "}"
   ]
  },
  {
   "cell_type": "code",
   "execution_count": 9,
   "id": "interesting-plenty",
   "metadata": {},
   "outputs": [
    {
     "data": {
      "text/html": [
       "<style type=\"text/css\">\n",
       "</style>\n",
       "<table id=\"T_41fd5_\">\n",
       "  <thead>\n",
       "    <tr>\n",
       "      <th class=\"col_heading level0 col0\" >Node</th>\n",
       "      <th class=\"col_heading level0 col1\" >Edges</th>\n",
       "    </tr>\n",
       "  </thead>\n",
       "  <tbody>\n",
       "    <tr>\n",
       "      <td id=\"T_41fd5_row0_col0\" class=\"data row0 col0\" >Case Town</td>\n",
       "      <td id=\"T_41fd5_row0_col1\" class=\"data row0 col1\" >['Case Town', 'Alexandrea', 'Por Town']</td>\n",
       "    </tr>\n",
       "    <tr>\n",
       "      <td id=\"T_41fd5_row1_col0\" class=\"data row1 col0\" >Alexandrea</td>\n",
       "      <td id=\"T_41fd5_row1_col1\" class=\"data row1 col1\" >['Alexandrea', 'Case Town']</td>\n",
       "    </tr>\n",
       "    <tr>\n",
       "      <td id=\"T_41fd5_row2_col0\" class=\"data row2 col0\" >Por Town</td>\n",
       "      <td id=\"T_41fd5_row2_col1\" class=\"data row2 col1\" >['Por Town', 'Case Town', 'Fisherman House', 'Loria', 'Sonospla']</td>\n",
       "    </tr>\n",
       "    <tr>\n",
       "      <td id=\"T_41fd5_row3_col0\" class=\"data row3 col0\" >Fisherman House</td>\n",
       "      <td id=\"T_41fd5_row3_col1\" class=\"data row3 col1\" >['Fisherman House', 'Island Tower', 'Por Town']</td>\n",
       "    </tr>\n",
       "    <tr>\n",
       "      <td id=\"T_41fd5_row4_col0\" class=\"data row4 col0\" >Island Tower</td>\n",
       "      <td id=\"T_41fd5_row4_col1\" class=\"data row4 col1\" >['Island Tower', 'Fisherman House']</td>\n",
       "    </tr>\n",
       "    <tr>\n",
       "      <td id=\"T_41fd5_row5_col0\" class=\"data row5 col0\" >Loria</td>\n",
       "      <td id=\"T_41fd5_row5_col1\" class=\"data row5 col1\" >['Loria', 'Por Town', 'Sonospla', 'Goblin Dew']</td>\n",
       "    </tr>\n",
       "    <tr>\n",
       "      <td id=\"T_41fd5_row6_col0\" class=\"data row6 col0\" >Sonospla</td>\n",
       "      <td id=\"T_41fd5_row6_col1\" class=\"data row6 col1\" >['Sonospla', 'Loria', 'Por Town', 'Caravan', 'Desert Fortress']</td>\n",
       "    </tr>\n",
       "    <tr>\n",
       "      <td id=\"T_41fd5_row7_col0\" class=\"data row7 col0\" >Caravan</td>\n",
       "      <td id=\"T_41fd5_row7_col1\" class=\"data row7 col1\" >['Caravan', 'Sonospla', 'Desert Fortress']</td>\n",
       "    </tr>\n",
       "    <tr>\n",
       "      <td id=\"T_41fd5_row8_col0\" class=\"data row8 col0\" >Desert Fortress</td>\n",
       "      <td id=\"T_41fd5_row8_col1\" class=\"data row8 col1\" >['Desert Fortress', 'Caravan', 'Arcadia', 'Malma City', 'Sonospla', 'Vault Gisley']</td>\n",
       "    </tr>\n",
       "    <tr>\n",
       "      <td id=\"T_41fd5_row9_col0\" class=\"data row9 col0\" >Arcadia</td>\n",
       "      <td id=\"T_41fd5_row9_col1\" class=\"data row9 col1\" >['Arcadia', 'Desert Fortress', 'Malma City']</td>\n",
       "    </tr>\n",
       "    <tr>\n",
       "      <td id=\"T_41fd5_row10_col0\" class=\"data row10 col0\" >Malma City</td>\n",
       "      <td id=\"T_41fd5_row10_col1\" class=\"data row10 col1\" >['Malma City', 'Arcadia', 'Desert Fortress', 'Vault Gisley']</td>\n",
       "    </tr>\n",
       "    <tr>\n",
       "      <td id=\"T_41fd5_row11_col0\" class=\"data row11 col0\" >Goblin Dew</td>\n",
       "      <td id=\"T_41fd5_row11_col1\" class=\"data row11 col1\" >['Goblin Dew', 'Loria', 'Lokiana Town', 'Elfenheim']</td>\n",
       "    </tr>\n",
       "    <tr>\n",
       "      <td id=\"T_41fd5_row12_col0\" class=\"data row12 col0\" >Lokiana Town</td>\n",
       "      <td id=\"T_41fd5_row12_col1\" class=\"data row12 col1\" >['Lokiana Town', 'Goblin Dew', 'Elfenheim', 'Gomorra']</td>\n",
       "    </tr>\n",
       "    <tr>\n",
       "      <td id=\"T_41fd5_row13_col0\" class=\"data row13 col0\" >Elfenheim</td>\n",
       "      <td id=\"T_41fd5_row13_col1\" class=\"data row13 col1\" >['Elfenheim', 'Lokiana Town', 'Goblin Dew', 'Gomorra']</td>\n",
       "    </tr>\n",
       "    <tr>\n",
       "      <td id=\"T_41fd5_row14_col0\" class=\"data row14 col0\" >Gomorra</td>\n",
       "      <td id=\"T_41fd5_row14_col1\" class=\"data row14 col1\" >['Gomorra', 'Lokiana Town', 'Elfenheim', 'Orcs Camp']</td>\n",
       "    </tr>\n",
       "    <tr>\n",
       "      <td id=\"T_41fd5_row15_col0\" class=\"data row15 col0\" >Orcs Camp</td>\n",
       "      <td id=\"T_41fd5_row15_col1\" class=\"data row15 col1\" >['Orcs Camp', 'Gomorra', 'Vault Gisley']</td>\n",
       "    </tr>\n",
       "    <tr>\n",
       "      <td id=\"T_41fd5_row16_col0\" class=\"data row16 col0\" >Vault Gisley</td>\n",
       "      <td id=\"T_41fd5_row16_col1\" class=\"data row16 col1\" >['Vault Gisley', 'Orcs Camp', 'Desert Fortress', 'Malma City']</td>\n",
       "    </tr>\n",
       "  </tbody>\n",
       "</table>\n"
      ],
      "text/plain": [
       "<pandas.io.formats.style.Styler at 0x7f0617facc40>"
      ]
     },
     "execution_count": 9,
     "metadata": {},
     "output_type": "execute_result"
    }
   ],
   "source": [
    "# Create new Graph\n",
    "highlands_graph = Graph(highlands_distances)\n",
    "\n",
    "# Bind nodes and respective edges to a table format\n",
    "data = []\n",
    "for node in highlands_graph.get_nodes():\n",
    "    data.append([node, list(highlands_graph.get_edges(node))])\n",
    "\n",
    "# Show table for better visualization\n",
    "pd.DataFrame(data, columns=['Node', 'Edges']).style.hide_index()"
   ]
  },
  {
   "cell_type": "code",
   "execution_count": 10,
   "id": "ordinary-compromise",
   "metadata": {
    "scrolled": true
   },
   "outputs": [
    {
     "data": {
      "text/html": [
       "\n",
       "        <iframe\n",
       "            width=\"100%\"\n",
       "            height=\"350px\"\n",
       "            src=\"graph.html\"\n",
       "            frameborder=\"0\"\n",
       "            allowfullscreen\n",
       "        ></iframe>\n",
       "        "
      ],
      "text/plain": [
       "<IPython.lib.display.IFrame at 0x7f0617d08370>"
      ]
     },
     "execution_count": 10,
     "metadata": {},
     "output_type": "execute_result"
    }
   ],
   "source": [
    "highlands_graph.plot()"
   ]
  },
  {
   "cell_type": "markdown",
   "id": "coated-circulation",
   "metadata": {},
   "source": [
    "pyvis out:\n",
    "![highlands_graphvis](https://i.ibb.co/8Mnr6GG/Captura-de-Tela-2022-03-26-a-s-11-15-16.png)"
   ]
  },
  {
   "attachments": {},
   "cell_type": "markdown",
   "id": "german-melissa",
   "metadata": {},
   "source": [
    "## Queue\n",
    "\n",
    "Queue is a data-controller structure based on the FIFO (First-In, First-Out) premisse, where the elements are \"stacked\" one behind another, and the first element in the front of the queue are called, processed and then removed from the queue. This structure is needed to some of our search algorithms.\n",
    "\n",
    "<br />\n",
    "\n",
    "<img src=\"https://miro.medium.com/max/1400/1*zSjPOiijgcuCPvNcYdq_XQ.jpeg\" align=\"center\" width=\"400\" alt=\"Project icon\">\n",
    "\n",
    "<br />"
   ]
  },
  {
   "cell_type": "code",
   "execution_count": 11,
   "id": "configured-satisfaction",
   "metadata": {},
   "outputs": [],
   "source": [
    "class Queue:\n",
    "    def __init__(self, *elements):\n",
    "        self._elements = list(elements)\n",
    "\n",
    "    def empty(self):\n",
    "        return not bool(self._elements)\n",
    "        \n",
    "    def next(self):\n",
    "        if self.empty():\n",
    "            raise Exception('The queue is empty!')\n",
    "        return self._elements.pop(0)\n",
    "\n",
    "    def insert(self, element):\n",
    "        self._elements.append(element)\n",
    "\n",
    "    def length(self):\n",
    "        return len(self._elements)\n",
    "\n",
    "    def show(self, n=None):\n",
    "        if not n:\n",
    "            return self._elements\n",
    "        return self._elements[:n]\n",
    "\n",
    "    def __repr__(self):\n",
    "        return str(self._elements)\n",
    "\n",
    "    def __str__(self):\n",
    "        return str(self._elements)\n"
   ]
  },
  {
   "cell_type": "markdown",
   "id": "reserved-ideal",
   "metadata": {},
   "source": [
    "## Breadth-first search\n",
    "\n",
    "The breadth-first algorithm searches for the shallow next neighboors first. Starting from a initial node, we get all of his childs, and check all childs to test if one of them corresponds to our goal. In our dantasy abstraction, we are starting on **Case Town**. The *Case Town* **childs** are **Alexandrea** and **Por Town**, so the algorith will check both and compare if it is our goal (**Vault Gisley**), as none of them are our goal the algorithm will keep checking for the child of the childs, so it will test if the children of **Alexandrea** contains our goal, then the childs of **Por Town**. If none of them ar, the algorithms will keep the same logic, comparing child by child.\n",
    "\n",
    "<br />\n",
    "\n",
    "<img src=\"https://upload.wikimedia.org/wikipedia/commons/5/5d/Breadth-First-Search-Algorithm.gif\" align=\"center\" width=\"200\" alt=\"Project icon\">\n",
    "\n",
    "\n",
    "<br />\n",
    "\n",
    "Below there is a breadth-first search function based upon the pseudocode at [Russel & Norvig (2010)](https://www.amazon.com/Artificial-Intelligence-Modern-Approach-3rd/dp/0136042597):"
   ]
  },
  {
   "cell_type": "code",
   "execution_count": 12,
   "id": "colored-banking",
   "metadata": {},
   "outputs": [],
   "source": [
    "def breath_first_search(graph, initial_node, goal_node):\n",
    "    node = initial_node\n",
    "    queue = Queue(*graph.get_edges(initial_node))\n",
    "    explored = []\n",
    "    solution = {\n",
    "        'total_distance': 0\n",
    "    }\n",
    "\n",
    "    while not queue.empty():\n",
    "        node = queue.next()\n",
    "        explored.append(node)\n",
    "\n",
    "        for child in graph.get_edges(node):\n",
    "            if child in explored:\n",
    "                continue\n",
    "            explored.append(child)\n",
    "            if child == goal_node:\n",
    "                path = []\n",
    "                for town in explored:\n",
    "                    if town not in path:\n",
    "                        path.append(town)\n",
    "                solution['path'] = path\n",
    "                solution['full_path'] = explored\n",
    "                return solution\n",
    "            solution['total_distance'] += graph.get_edges(node)[child]\n",
    "            queue.insert(child)\n"
   ]
  },
  {
   "cell_type": "code",
   "execution_count": 17,
   "id": "4665e957",
   "metadata": {},
   "outputs": [
    {
     "data": {
      "text/html": [
       "<style type=\"text/css\">\n",
       "</style>\n",
       "<table id=\"T_a9b4c_\">\n",
       "  <thead>\n",
       "    <tr>\n",
       "      <th class=\"col_heading level0 col0\" >Total distance: 2469</th>\n",
       "    </tr>\n",
       "  </thead>\n",
       "  <tbody>\n",
       "    <tr>\n",
       "      <td id=\"T_a9b4c_row0_col0\" class=\"data row0 col0\" >Path: </td>\n",
       "    </tr>\n",
       "    <tr>\n",
       "      <td id=\"T_a9b4c_row1_col0\" class=\"data row1 col0\" >Case Town --> Alexandrea --> Por Town --> Fisherman House --> Loria --> Sonospla --> Island Tower --> Goblin Dew --> Caravan --> Desert Fortress --> Lokiana Town --> Elfenheim --> Arcadia --> Malma City --> Vault Gisley</td>\n",
       "    </tr>\n",
       "  </tbody>\n",
       "</table>\n"
      ],
      "text/plain": [
       "<pandas.io.formats.style.Styler at 0x7f0617d08e20>"
      ]
     },
     "execution_count": 17,
     "metadata": {},
     "output_type": "execute_result"
    }
   ],
   "source": [
    "result = breath_first_search(highlands_graph, 'Case Town', 'Vault Gisley')\n",
    "\n",
    "# Show table for better visualization\n",
    "pd.DataFrame(['Path: ', ' --> '.join(result['path'])], columns=[f'Total distance: {result[\"total_distance\"]}']).style.hide_index()"
   ]
  },
  {
   "cell_type": "markdown",
   "id": "4a92e089",
   "metadata": {},
   "source": [
    "This search may repeat nodes until it finds the goal, no mathers the distance cost, it only searches for the goal itself, so this isnt the best choice algorith for our little friends to take the shortest path to reach the dragon mountain, by plotting the path it is possible to see that the connections may not make sense (Arcadia isnt linked to Elfenheim), because the repetition visits are ommited:"
   ]
  },
  {
   "cell_type": "code",
   "execution_count": 14,
   "id": "c1fc9097",
   "metadata": {
    "scrolled": true
   },
   "outputs": [
    {
     "data": {
      "text/html": [
       "\n",
       "        <iframe\n",
       "            width=\"100%\"\n",
       "            height=\"350px\"\n",
       "            src=\"result_net.html\"\n",
       "            frameborder=\"0\"\n",
       "            allowfullscreen\n",
       "        ></iframe>\n",
       "        "
      ],
      "text/plain": [
       "<IPython.lib.display.IFrame at 0x7f0617d2d0a0>"
      ]
     },
     "execution_count": 14,
     "metadata": {},
     "output_type": "execute_result"
    }
   ],
   "source": [
    "# Graph visualization\n",
    "result_net = Network(\n",
    "    height='350px',\n",
    "    width='100%',\n",
    "    bgcolor='#222222',\n",
    "    font_color='white',\n",
    "    notebook=True\n",
    ")\n",
    "# Add nodes to the network graph\n",
    "for node in result['path']:\n",
    "    result_net.add_node(node, node, title=node)\n",
    "    \n",
    "# link nodes with edges\n",
    "last = result['path'][0]\n",
    "for node in result['path']:\n",
    "    result_net.add_edge(node, last, value=node)\n",
    "    last = node\n",
    "\n",
    "# View graph\n",
    "result_net.show('result_net.html')"
   ]
  },
  {
   "cell_type": "markdown",
   "id": "22272de5",
   "metadata": {},
   "source": [
    "pyvis out: ![result_connection_path](https://i.ibb.co/crcQjBC/Screenshot-at-2022-03-28-16-43-52.png)"
   ]
  },
  {
   "cell_type": "markdown",
   "id": "reliable-ownership",
   "metadata": {},
   "source": [
    "## Depth-first search"
   ]
  },
  {
   "cell_type": "code",
   "execution_count": null,
   "id": "tracked-adult",
   "metadata": {},
   "outputs": [],
   "source": [
    "todo"
   ]
  },
  {
   "cell_type": "markdown",
   "id": "2b8133ca",
   "metadata": {},
   "source": [
    "## References"
   ]
  },
  {
   "cell_type": "code",
   "execution_count": null,
   "id": "c5452434",
   "metadata": {},
   "outputs": [],
   "source": [
    "todo"
   ]
  }
 ],
 "metadata": {
  "kernelspec": {
   "display_name": "Python 3 (ipykernel)",
   "language": "python",
   "name": "python3"
  },
  "language_info": {
   "codemirror_mode": {
    "name": "ipython",
    "version": 3
   },
   "file_extension": ".py",
   "mimetype": "text/x-python",
   "name": "python",
   "nbconvert_exporter": "python",
   "pygments_lexer": "ipython3",
   "version": "3.8.10"
  }
 },
 "nbformat": 4,
 "nbformat_minor": 5
}
