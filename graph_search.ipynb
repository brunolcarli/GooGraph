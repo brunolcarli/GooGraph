{
 "cells": [
  {
   "cell_type": "code",
   "execution_count": 1,
   "id": "b6f42393",
   "metadata": {},
   "outputs": [],
   "source": [
    "# Run this cell if used libraries are missing\n",
    "!pip install pyvis"
   ]
  },
  {
   "cell_type": "code",
   "execution_count": 6,
   "id": "8a52b2d6",
   "metadata": {},
   "outputs": [],
   "source": [
    "from pyvis.network import Network"
   ]
  },
  {
   "cell_type": "markdown",
   "id": "6eed489d",
   "metadata": {},
   "source": [
    "## Graph Construction\n",
    "\n",
    "A graph is a network of points called nodes or **vertices**, which are connected by lines called **edges**.\n",
    "\n",
    "In python we can represent a graph network from a builtin dictionary type. The dict keys represent the vertices and the dict the value is a `list` which store the vertice connections, ore in other words, the edges of the node."
   ]
  },
  {
   "cell_type": "code",
   "execution_count": 7,
   "id": "8e90aa70",
   "metadata": {
    "scrolled": true
   },
   "outputs": [
    {
     "data": {
      "text/html": [
       "\n",
       "        <iframe\n",
       "            width=\"100%\"\n",
       "            height=\"350px\"\n",
       "            src=\"sample_net.html\"\n",
       "            frameborder=\"0\"\n",
       "            allowfullscreen\n",
       "        ></iframe>\n",
       "        "
      ],
      "text/plain": [
       "<IPython.lib.display.IFrame at 0x7f6a617a3c70>"
      ]
     },
     "execution_count": 7,
     "metadata": {},
     "output_type": "execute_result"
    }
   ],
   "source": [
    "# Graph construction\n",
    "sample_graph = {\n",
    "    'A': ['B', 'C', 'E'],\n",
    "    'B': ['A', 'D'],\n",
    "    'C': ['A'],\n",
    "    'D': ['B', 'E'],\n",
    "    'E': ['D', 'A']\n",
    "}\n",
    "\n",
    "# Graph visualisation\n",
    "sample_net = Network(\n",
    "    height='350px',\n",
    "    width='100%',\n",
    "    bgcolor='#222222',\n",
    "    font_color='white',\n",
    "    notebook=True\n",
    ")\n",
    "# Add nodes to the network graph\n",
    "for node in sample_graph:\n",
    "    sample_net.add_node(node, node, title=node)\n",
    "    \n",
    "# link nodes with edges\n",
    "for node, edges in sample_graph.items():\n",
    "    for edge in edges:\n",
    "        sample_net.add_edge(node, edge, value=node)\n",
    "\n",
    "# View graph\n",
    "sample_net.show('sample_net.html')"
   ]
  },
  {
   "cell_type": "markdown",
   "id": "070803d4",
   "metadata": {},
   "source": [
    "pyvis output:\n",
    "\n",
    "![pyvis_out_1](https://i.ibb.co/tJ2h05r/Screenshot-at-2022-03-22-18-03-24.png)"
   ]
  },
  {
   "cell_type": "markdown",
   "id": "f6439638",
   "metadata": {},
   "source": [
    "This is a very simple and rustic way to do this, let us use a `class` and allow a better manipulation with methods to add and remove nodes and edges. This is a more elegant ~~weapon~~ tool for a more civilized ~~age~~ code\n",
    "\n",
    "![reference_1](https://encrypted-tbn0.gstatic.com/images?q=tbn:ANd9GcTSA9gQ3twqfMy6VwedEGtd7eAwzoFsKiUl0brRY0acV6qj_RoJJe917mCeWLJDPQJ83fo&usqp=CAU)"
   ]
  },
  {
   "cell_type": "code",
   "execution_count": 8,
   "id": "aa209a05",
   "metadata": {},
   "outputs": [],
   "source": [
    "class Graph:\n",
    "    def __init__(self, pydict):\n",
    "        self._data = pydict\n",
    "        self.net = Network(\n",
    "            height='350px',\n",
    "            width='100%',\n",
    "            bgcolor='#222222',\n",
    "            font_color='white',\n",
    "            notebook=True\n",
    "        )\n",
    "\n",
    "    def get_nodes(self):\n",
    "        \"\"\" return a list of all nodes \"\"\"\n",
    "        return list(self._data.keys())\n",
    "\n",
    "    def get_edges(self, node):\n",
    "        \"\"\" return a list of the edges from a node \"\"\"\n",
    "        return self._data.get(node)\n",
    "\n",
    "    def add_node(self, node, edges=None):\n",
    "        \"\"\" Add a node to graph \"\"\"\n",
    "        if not edges:\n",
    "            edges = []\n",
    "        if not isinstance(edges, list):\n",
    "            raise Exception('Edges must be a list')\n",
    "\n",
    "        self._data[node] = list(set(edges))  # enforce no duplicates\n",
    "        return self.get_nodes()\n",
    "\n",
    "    def add_edge(self, node, edge):\n",
    "        \"\"\" Link a node to a another \"\"\"\n",
    "        if node not in self._data:\n",
    "            self.add_node(node)\n",
    "\n",
    "        self._data[node].append(edge)\n",
    "        return self.get_edges(node)\n",
    "\n",
    "    def plot(self):\n",
    "        \"\"\" Plots the graph visualization \"\"\"\n",
    "\n",
    "        for node in self._data:\n",
    "            self.net.add_node(node, node, title=node)\n",
    "\n",
    "        for node, edges in self._data.items():\n",
    "            for edge in edges:\n",
    "                self.net.add_edge(node, edge, value=node)\n",
    "\n",
    "        return self.net.show('graph.html')"
   ]
  },
  {
   "cell_type": "code",
   "execution_count": 9,
   "id": "86f1aa88",
   "metadata": {},
   "outputs": [
    {
     "name": "stdout",
     "output_type": "stream",
     "text": [
      "Graph data\n",
      "\n",
      "['A', 'B', 'C', 'D', 'E']\n",
      "['B', 'C', 'E']\n"
     ]
    }
   ],
   "source": [
    "# Create new Graph\n",
    "graph = Graph(sample_graph)\n",
    "print('Graph data\\n')\n",
    "print(graph.get_nodes())\n",
    "print(graph.get_edges('A'))\n"
   ]
  },
  {
   "cell_type": "code",
   "execution_count": 10,
   "id": "26abf476",
   "metadata": {},
   "outputs": [
    {
     "data": {
      "text/plain": [
       "['B']"
      ]
     },
     "execution_count": 10,
     "metadata": {},
     "output_type": "execute_result"
    }
   ],
   "source": [
    "# Add some more edges and nodes\n",
    "graph.add_node('Z')\n",
    "graph.add_node('W')\n",
    "graph.add_node('X')\n",
    "\n",
    "graph.add_edge('A', 'Z')\n",
    "graph.add_edge('W', 'Z')\n",
    "graph.add_edge('X', 'C')\n",
    "graph.add_edge('O', 'B')"
   ]
  },
  {
   "cell_type": "code",
   "execution_count": 11,
   "id": "c3dbe177",
   "metadata": {},
   "outputs": [
    {
     "data": {
      "text/html": [
       "\n",
       "        <iframe\n",
       "            width=\"100%\"\n",
       "            height=\"350px\"\n",
       "            src=\"graph.html\"\n",
       "            frameborder=\"0\"\n",
       "            allowfullscreen\n",
       "        ></iframe>\n",
       "        "
      ],
      "text/plain": [
       "<IPython.lib.display.IFrame at 0x7f6a7807f700>"
      ]
     },
     "execution_count": 11,
     "metadata": {},
     "output_type": "execute_result"
    }
   ],
   "source": [
    "# plot graph\n",
    "graph.plot()"
   ]
  },
  {
   "cell_type": "markdown",
   "id": "ee12998e",
   "metadata": {},
   "source": [
    "pyvis oputput:\n",
    "\n",
    "![pyvis_out_2](https://i.ibb.co/9qhJDpD/Screenshot-at-2022-03-22-18-05-14.png)"
   ]
  },
  {
   "cell_type": "code",
   "execution_count": null,
   "id": "dbbfe446",
   "metadata": {},
   "outputs": [],
   "source": []
  }
 ],
 "metadata": {
  "kernelspec": {
   "display_name": "Python 3 (ipykernel)",
   "language": "python",
   "name": "python3"
  },
  "language_info": {
   "codemirror_mode": {
    "name": "ipython",
    "version": 3
   },
   "file_extension": ".py",
   "mimetype": "text/x-python",
   "name": "python",
   "nbconvert_exporter": "python",
   "pygments_lexer": "ipython3",
   "version": "3.8.10"
  }
 },
 "nbformat": 4,
 "nbformat_minor": 5
}
