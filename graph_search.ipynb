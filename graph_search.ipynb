{
 "cells": [
  {
   "cell_type": "markdown",
   "id": "buried-cover",
   "metadata": {},
   "source": [
    "```\n",
    "@beelzebruno\n",
    "2022\n",
    "```"
   ]
  },
  {
   "cell_type": "code",
   "execution_count": 1,
   "id": "b6f42393",
   "metadata": {},
   "outputs": [],
   "source": [
    "# Run this cell if used libraries are missing\n",
    "# ! (uncomment necessary packages first) !\n",
    "\n",
    "# !pip install pyvis\n",
    "# !pip install pandas\n",
    "# !pip install matplotlib\n",
    "# !pip install seaborn"
   ]
  },
  {
   "cell_type": "code",
   "execution_count": 2,
   "id": "8a52b2d6",
   "metadata": {},
   "outputs": [],
   "source": [
    "from math import factorial as ft\n",
    "from math import log\n",
    "import matplotlib.pyplot as plt\n",
    "import pandas as pd\n",
    "from pyvis.network import Network\n",
    "import seaborn as sns\n",
    "\n",
    "plt.style.use('seaborn')"
   ]
  },
  {
   "cell_type": "markdown",
   "id": "6eed489d",
   "metadata": {},
   "source": [
    "## Graph Construction\n",
    "\n",
    "A graph is a network of points called nodes or **vertices**, which are connected by lines called **edges**.\n",
    "\n",
    "In python we can represent a graph network from a builtin dictionary type. The dict keys represent the vertices and the dict the value lists the vertice connections, ore in other words, the edges of the node."
   ]
  },
  {
   "cell_type": "code",
   "execution_count": 3,
   "id": "8e90aa70",
   "metadata": {
    "scrolled": true
   },
   "outputs": [
    {
     "data": {
      "text/html": [
       "\n",
       "        <iframe\n",
       "            width=\"100%\"\n",
       "            height=\"350px\"\n",
       "            src=\"sample_net.html\"\n",
       "            frameborder=\"0\"\n",
       "            allowfullscreen\n",
       "        ></iframe>\n",
       "        "
      ],
      "text/plain": [
       "<IPython.lib.display.IFrame at 0x7fce24897b50>"
      ]
     },
     "execution_count": 3,
     "metadata": {},
     "output_type": "execute_result"
    }
   ],
   "source": [
    "# Graph construction\n",
    "sample_graph = {\n",
    "    'A': ['B', 'C', 'E'],\n",
    "    'B': ['A', 'D'],\n",
    "    'C': ['A'],\n",
    "    'D': ['B', 'E'],\n",
    "    'E': ['D', 'A']\n",
    "}\n",
    "\n",
    "# Graph visualization\n",
    "sample_net = Network(\n",
    "    height='350px',\n",
    "    width='100%',\n",
    "    bgcolor='#222222',\n",
    "    font_color='white',\n",
    "    notebook=True\n",
    ")\n",
    "# Add nodes to the network graph\n",
    "for node in sample_graph:\n",
    "    sample_net.add_node(node, node, title=node)\n",
    "    \n",
    "# link nodes with edges\n",
    "for node, edges in sample_graph.items():\n",
    "    for edge in edges:\n",
    "        sample_net.add_edge(node, edge, value=node)\n",
    "\n",
    "# View graph\n",
    "sample_net.show('sample_net.html')"
   ]
  },
  {
   "cell_type": "markdown",
   "id": "070803d4",
   "metadata": {},
   "source": [
    "pyvis output:\n",
    "\n",
    "![pyvis_out_1](https://i.ibb.co/tJ2h05r/Screenshot-at-2022-03-22-18-03-24.png)"
   ]
  },
  {
   "cell_type": "markdown",
   "id": "f6439638",
   "metadata": {},
   "source": [
    "This is a very simple and rustic way to do this, let us use a `class` and allow a better manipulation with methods to add and remove nodes and edges. This is a more elegant ~~weapon~~ tool for a more civilized ~~age~~ code\n",
    "\n",
    "![reference_1](https://encrypted-tbn0.gstatic.com/images?q=tbn:ANd9GcTSA9gQ3twqfMy6VwedEGtd7eAwzoFsKiUl0brRY0acV6qj_RoJJe917mCeWLJDPQJ83fo&usqp=CAU)"
   ]
  },
  {
   "cell_type": "code",
   "execution_count": 4,
   "id": "aa209a05",
   "metadata": {},
   "outputs": [],
   "source": [
    "class Graph:\n",
    "    def __init__(self, pydict):\n",
    "        self._data = pydict\n",
    "        self.net = Network(\n",
    "            height='350px',\n",
    "            width='100%',\n",
    "            bgcolor='#222222',\n",
    "            font_color='white',\n",
    "            notebook=True\n",
    "        )\n",
    "\n",
    "    def get_nodes(self):\n",
    "        \"\"\" return a list of all nodes \"\"\"\n",
    "        return list(self._data.keys())\n",
    "\n",
    "    def get_edges(self, node):\n",
    "        \"\"\" return a list of the edges from a node \"\"\"\n",
    "        return self._data.get(node)\n",
    "\n",
    "    def add_node(self, node, edges=None):\n",
    "        \"\"\" Add a node to graph \"\"\"\n",
    "        if node in self._data:\n",
    "            return self.get_nodes()\n",
    "\n",
    "        if not edges:\n",
    "            edges = []\n",
    "        if not isinstance(edges, list):\n",
    "            raise Exception('Edges must be a list')\n",
    "\n",
    "        self._data[node] = list(set(edges))  # enforce no duplicates\n",
    "        return self.get_nodes()\n",
    "\n",
    "    def add_edge(self, node, edge):\n",
    "        \"\"\" Link a node to a another \"\"\"\n",
    "        if node not in self._data:\n",
    "            self.add_node(node)\n",
    "\n",
    "        self._data[node].append(edge)\n",
    "        return self.get_edges(node)\n",
    "\n",
    "    def plot(self):\n",
    "        \"\"\" Plots the graph visualization \"\"\"\n",
    "\n",
    "        for node in self._data:\n",
    "            self.net.add_node(node, node, title=node)\n",
    "\n",
    "        for node, edges in self._data.items():\n",
    "            for edge in edges:\n",
    "                self.net.add_edge(node, edge, value=node)\n",
    "\n",
    "        return self.net.show('graph.html')"
   ]
  },
  {
   "cell_type": "code",
   "execution_count": 5,
   "id": "86f1aa88",
   "metadata": {},
   "outputs": [
    {
     "data": {
      "text/html": [
       "<style type=\"text/css\">\n",
       "</style>\n",
       "<table id=\"T_fe212_\">\n",
       "  <thead>\n",
       "    <tr>\n",
       "      <th class=\"col_heading level0 col0\" >Node</th>\n",
       "      <th class=\"col_heading level0 col1\" >Edges</th>\n",
       "    </tr>\n",
       "  </thead>\n",
       "  <tbody>\n",
       "    <tr>\n",
       "      <td id=\"T_fe212_row0_col0\" class=\"data row0 col0\" >A</td>\n",
       "      <td id=\"T_fe212_row0_col1\" class=\"data row0 col1\" >['B', 'C', 'E']</td>\n",
       "    </tr>\n",
       "    <tr>\n",
       "      <td id=\"T_fe212_row1_col0\" class=\"data row1 col0\" >B</td>\n",
       "      <td id=\"T_fe212_row1_col1\" class=\"data row1 col1\" >['A', 'D']</td>\n",
       "    </tr>\n",
       "    <tr>\n",
       "      <td id=\"T_fe212_row2_col0\" class=\"data row2 col0\" >C</td>\n",
       "      <td id=\"T_fe212_row2_col1\" class=\"data row2 col1\" >['A']</td>\n",
       "    </tr>\n",
       "    <tr>\n",
       "      <td id=\"T_fe212_row3_col0\" class=\"data row3 col0\" >D</td>\n",
       "      <td id=\"T_fe212_row3_col1\" class=\"data row3 col1\" >['B', 'E']</td>\n",
       "    </tr>\n",
       "    <tr>\n",
       "      <td id=\"T_fe212_row4_col0\" class=\"data row4 col0\" >E</td>\n",
       "      <td id=\"T_fe212_row4_col1\" class=\"data row4 col1\" >['D', 'A']</td>\n",
       "    </tr>\n",
       "  </tbody>\n",
       "</table>\n"
      ],
      "text/plain": [
       "<pandas.io.formats.style.Styler at 0x7fce2495a2b0>"
      ]
     },
     "execution_count": 5,
     "metadata": {},
     "output_type": "execute_result"
    }
   ],
   "source": [
    "# Create new Graph\n",
    "graph = Graph(sample_graph)\n",
    "\n",
    "# Bind nodes and respective edges to a table format\n",
    "data = []\n",
    "for node in graph.get_nodes():\n",
    "    data.append([node, graph.get_edges(node)])\n",
    "\n",
    "# Show table for better visualization\n",
    "pd.DataFrame(data, columns=['Node', 'Edges']).style.hide_index()"
   ]
  },
  {
   "cell_type": "code",
   "execution_count": 6,
   "id": "26abf476",
   "metadata": {},
   "outputs": [
    {
     "data": {
      "text/plain": [
       "['B']"
      ]
     },
     "execution_count": 6,
     "metadata": {},
     "output_type": "execute_result"
    }
   ],
   "source": [
    "# Add some more edges and nodes\n",
    "graph.add_node('Z')\n",
    "graph.add_node('W')\n",
    "graph.add_node('X')\n",
    "\n",
    "graph.add_edge('A', 'Z')\n",
    "graph.add_edge('W', 'Z')\n",
    "graph.add_edge('X', 'C')\n",
    "graph.add_edge('O', 'B')"
   ]
  },
  {
   "cell_type": "code",
   "execution_count": 7,
   "id": "c3dbe177",
   "metadata": {},
   "outputs": [
    {
     "data": {
      "text/html": [
       "\n",
       "        <iframe\n",
       "            width=\"100%\"\n",
       "            height=\"350px\"\n",
       "            src=\"graph.html\"\n",
       "            frameborder=\"0\"\n",
       "            allowfullscreen\n",
       "        ></iframe>\n",
       "        "
      ],
      "text/plain": [
       "<IPython.lib.display.IFrame at 0x7fce6af8b610>"
      ]
     },
     "execution_count": 7,
     "metadata": {},
     "output_type": "execute_result"
    }
   ],
   "source": [
    "# plot graph\n",
    "graph.plot()"
   ]
  },
  {
   "cell_type": "markdown",
   "id": "ee12998e",
   "metadata": {},
   "source": [
    "pyvis oputput:\n",
    "\n",
    "![pyvis_out_2](https://i.ibb.co/9qhJDpD/Screenshot-at-2022-03-22-18-05-14.png)"
   ]
  },
  {
   "cell_type": "markdown",
   "id": "direct-superior",
   "metadata": {},
   "source": [
    "Thats nice ok, but is not very informative when abstracting to the real world, so let us make a fantasy abstraction to merge the usability ideas:\n",
    "\n",
    "Suppose we are in a magic land called **Highlands** with many folks living in their towns. One day in a one small town called **Case Town** where The **Case Folks** live. \n",
    "\n",
    "In a warm sunny day on this little town, a white **Snow Mage** who traveled from the far lands of the **Arcadia** comes to visit a little friend. The mage brought 7 little dwarf friends which are natural from the deep caves of **Loria**, with a proposal, to reach the mountains of **Vault Gisley** for a quest: \"to stole gold from a dragon\". There are many possible ways to reach the mountain, with many dangers in the way. They must choose the shortest path to reach the mountain.\n",
    "\n",
    "<br />\n",
    "\n",
    "![highlands_map](https://i.ibb.co/r4njkvT/highlands-map.png)\n",
    "\n",
    "<br />\n",
    "\n",
    "Let us set some distances levels to the edges that connect this magic land towns, we can do that from python by a dict of dicts:"
   ]
  },
  {
   "cell_type": "code",
   "execution_count": 8,
   "id": "dominant-allergy",
   "metadata": {},
   "outputs": [],
   "source": [
    "highlands_distances = {\n",
    "    'Case Town': {\n",
    "        'Case Town': 0,\n",
    "        'Alexandrea': 100,\n",
    "        'Por Town': 322\n",
    "    },\n",
    "    'Alexandrea': {\n",
    "        'Alexandrea': 0,\n",
    "        'Case Town': 100\n",
    "    },\n",
    "    'Por Town': {\n",
    "        'Por Town': 0,\n",
    "        'Case Town': 322,\n",
    "        'Fisherman House': 82,\n",
    "        'Loria': 476,\n",
    "        'Sonospla': 790\n",
    "    },\n",
    "    'Fisherman House': {\n",
    "        'Fisherman House': 0,\n",
    "        'Island Tower': 56,\n",
    "        'Por Town': 82\n",
    "    },\n",
    "    'Island Tower': {\n",
    "        'Island Tower': 0,\n",
    "        'Fisherman House': 56\n",
    "    },\n",
    "    'Loria': {\n",
    "        'Loria': 0,\n",
    "        'Por Town': 476,\n",
    "        'Sonospla': 54,\n",
    "        'Goblin Dew': 233\n",
    "    },\n",
    "    'Sonospla': {\n",
    "        'Sonospla': 0,\n",
    "        'Loria': 54,\n",
    "        'Por Town': 790,\n",
    "        'Caravan': 87,\n",
    "        'Desert Fortress': 80\n",
    "    },\n",
    "    'Caravan': {\n",
    "        'Caravan': 0,\n",
    "        'Sonospla': 87,\n",
    "        'Desert Fortress': 30,        \n",
    "    },\n",
    "    'Desert Fortress': {\n",
    "        'Desert Fortress': 0,\n",
    "        'Caravan': 30,\n",
    "        'Arcadia': 88,\n",
    "        'Malma City': 78,\n",
    "        'Sonospla': 80,\n",
    "        'Vault Gisley': 300\n",
    "    },\n",
    "    'Arcadia': {\n",
    "        'Arcadia': 0,\n",
    "        'Desert Fortress': 88,\n",
    "        'Malma City': 13,\n",
    "    },\n",
    "    'Malma City': {\n",
    "        'Malma City': 0,\n",
    "        'Arcadia': 13,\n",
    "        'Desert Fortress': 78,\n",
    "        'Vault Gisley': 234\n",
    "    },\n",
    "    'Goblin Dew': {\n",
    "        'Goblin Dew': 0,\n",
    "        'Loria': 233,\n",
    "        'Lokiana Town': 23,\n",
    "        'Elfenheim': 54,\n",
    "    },\n",
    "    'Lokiana Town': {\n",
    "        'Lokiana Town': 0,\n",
    "        'Goblin Dew': 23,\n",
    "        'Elfenheim': 10,\n",
    "        'Gomorra': 120\n",
    "    },\n",
    "    'Elfenheim': {\n",
    "        'Elfenheim': 0,\n",
    "        'Lokiana Town': 10,\n",
    "        'Goblin Dew': 54,\n",
    "        'Gomorra': 100\n",
    "    },\n",
    "    'Gomorra': {\n",
    "        'Gomorra': 0,\n",
    "        'Lokiana Town': 10,\n",
    "        'Elfenheim': 100,\n",
    "        'Orcs Camp': 30\n",
    "    },\n",
    "    'Orcs Camp': {\n",
    "        'Orcs Camp': 0,\n",
    "        'Gomorra': 30,\n",
    "        'Vault Gisley': 8\n",
    "    },\n",
    "    'Vault Gisley': {\n",
    "        'Vault Gisley': 0,\n",
    "        'Orcs Camp': 8,\n",
    "        'Desert Fortress': 300,\n",
    "        'Malma City': 234\n",
    "    }\n",
    "}"
   ]
  },
  {
   "cell_type": "code",
   "execution_count": 9,
   "id": "interesting-plenty",
   "metadata": {},
   "outputs": [
    {
     "data": {
      "text/html": [
       "<style type=\"text/css\">\n",
       "</style>\n",
       "<table id=\"T_d7d9a_\">\n",
       "  <thead>\n",
       "    <tr>\n",
       "      <th class=\"col_heading level0 col0\" >Node</th>\n",
       "      <th class=\"col_heading level0 col1\" >Edges</th>\n",
       "    </tr>\n",
       "  </thead>\n",
       "  <tbody>\n",
       "    <tr>\n",
       "      <td id=\"T_d7d9a_row0_col0\" class=\"data row0 col0\" >Case Town</td>\n",
       "      <td id=\"T_d7d9a_row0_col1\" class=\"data row0 col1\" >['Case Town', 'Alexandrea', 'Por Town']</td>\n",
       "    </tr>\n",
       "    <tr>\n",
       "      <td id=\"T_d7d9a_row1_col0\" class=\"data row1 col0\" >Alexandrea</td>\n",
       "      <td id=\"T_d7d9a_row1_col1\" class=\"data row1 col1\" >['Alexandrea', 'Case Town']</td>\n",
       "    </tr>\n",
       "    <tr>\n",
       "      <td id=\"T_d7d9a_row2_col0\" class=\"data row2 col0\" >Por Town</td>\n",
       "      <td id=\"T_d7d9a_row2_col1\" class=\"data row2 col1\" >['Por Town', 'Case Town', 'Fisherman House', 'Loria', 'Sonospla']</td>\n",
       "    </tr>\n",
       "    <tr>\n",
       "      <td id=\"T_d7d9a_row3_col0\" class=\"data row3 col0\" >Fisherman House</td>\n",
       "      <td id=\"T_d7d9a_row3_col1\" class=\"data row3 col1\" >['Fisherman House', 'Island Tower', 'Por Town']</td>\n",
       "    </tr>\n",
       "    <tr>\n",
       "      <td id=\"T_d7d9a_row4_col0\" class=\"data row4 col0\" >Island Tower</td>\n",
       "      <td id=\"T_d7d9a_row4_col1\" class=\"data row4 col1\" >['Island Tower', 'Fisherman House']</td>\n",
       "    </tr>\n",
       "    <tr>\n",
       "      <td id=\"T_d7d9a_row5_col0\" class=\"data row5 col0\" >Loria</td>\n",
       "      <td id=\"T_d7d9a_row5_col1\" class=\"data row5 col1\" >['Loria', 'Por Town', 'Sonospla', 'Goblin Dew']</td>\n",
       "    </tr>\n",
       "    <tr>\n",
       "      <td id=\"T_d7d9a_row6_col0\" class=\"data row6 col0\" >Sonospla</td>\n",
       "      <td id=\"T_d7d9a_row6_col1\" class=\"data row6 col1\" >['Sonospla', 'Loria', 'Por Town', 'Caravan', 'Desert Fortress']</td>\n",
       "    </tr>\n",
       "    <tr>\n",
       "      <td id=\"T_d7d9a_row7_col0\" class=\"data row7 col0\" >Caravan</td>\n",
       "      <td id=\"T_d7d9a_row7_col1\" class=\"data row7 col1\" >['Caravan', 'Sonospla', 'Desert Fortress']</td>\n",
       "    </tr>\n",
       "    <tr>\n",
       "      <td id=\"T_d7d9a_row8_col0\" class=\"data row8 col0\" >Desert Fortress</td>\n",
       "      <td id=\"T_d7d9a_row8_col1\" class=\"data row8 col1\" >['Desert Fortress', 'Caravan', 'Arcadia', 'Malma City', 'Sonospla', 'Vault Gisley']</td>\n",
       "    </tr>\n",
       "    <tr>\n",
       "      <td id=\"T_d7d9a_row9_col0\" class=\"data row9 col0\" >Arcadia</td>\n",
       "      <td id=\"T_d7d9a_row9_col1\" class=\"data row9 col1\" >['Arcadia', 'Desert Fortress', 'Malma City']</td>\n",
       "    </tr>\n",
       "    <tr>\n",
       "      <td id=\"T_d7d9a_row10_col0\" class=\"data row10 col0\" >Malma City</td>\n",
       "      <td id=\"T_d7d9a_row10_col1\" class=\"data row10 col1\" >['Malma City', 'Arcadia', 'Desert Fortress', 'Vault Gisley']</td>\n",
       "    </tr>\n",
       "    <tr>\n",
       "      <td id=\"T_d7d9a_row11_col0\" class=\"data row11 col0\" >Goblin Dew</td>\n",
       "      <td id=\"T_d7d9a_row11_col1\" class=\"data row11 col1\" >['Goblin Dew', 'Loria', 'Lokiana Town', 'Elfenheim']</td>\n",
       "    </tr>\n",
       "    <tr>\n",
       "      <td id=\"T_d7d9a_row12_col0\" class=\"data row12 col0\" >Lokiana Town</td>\n",
       "      <td id=\"T_d7d9a_row12_col1\" class=\"data row12 col1\" >['Lokiana Town', 'Goblin Dew', 'Elfenheim', 'Gomorra']</td>\n",
       "    </tr>\n",
       "    <tr>\n",
       "      <td id=\"T_d7d9a_row13_col0\" class=\"data row13 col0\" >Elfenheim</td>\n",
       "      <td id=\"T_d7d9a_row13_col1\" class=\"data row13 col1\" >['Elfenheim', 'Lokiana Town', 'Goblin Dew', 'Gomorra']</td>\n",
       "    </tr>\n",
       "    <tr>\n",
       "      <td id=\"T_d7d9a_row14_col0\" class=\"data row14 col0\" >Gomorra</td>\n",
       "      <td id=\"T_d7d9a_row14_col1\" class=\"data row14 col1\" >['Gomorra', 'Lokiana Town', 'Elfenheim', 'Orcs Camp']</td>\n",
       "    </tr>\n",
       "    <tr>\n",
       "      <td id=\"T_d7d9a_row15_col0\" class=\"data row15 col0\" >Orcs Camp</td>\n",
       "      <td id=\"T_d7d9a_row15_col1\" class=\"data row15 col1\" >['Orcs Camp', 'Gomorra', 'Vault Gisley']</td>\n",
       "    </tr>\n",
       "    <tr>\n",
       "      <td id=\"T_d7d9a_row16_col0\" class=\"data row16 col0\" >Vault Gisley</td>\n",
       "      <td id=\"T_d7d9a_row16_col1\" class=\"data row16 col1\" >['Vault Gisley', 'Orcs Camp', 'Desert Fortress', 'Malma City']</td>\n",
       "    </tr>\n",
       "  </tbody>\n",
       "</table>\n"
      ],
      "text/plain": [
       "<pandas.io.formats.style.Styler at 0x7fce248219a0>"
      ]
     },
     "execution_count": 9,
     "metadata": {},
     "output_type": "execute_result"
    }
   ],
   "source": [
    "# Create new Graph\n",
    "highlands_graph = Graph(highlands_distances)\n",
    "\n",
    "# Bind nodes and respective edges to a table format\n",
    "data = []\n",
    "for node in highlands_graph.get_nodes():\n",
    "    data.append([node, list(highlands_graph.get_edges(node))])\n",
    "\n",
    "# Show table for better visualization\n",
    "pd.DataFrame(data, columns=['Node', 'Edges']).style.hide_index()"
   ]
  },
  {
   "cell_type": "code",
   "execution_count": 10,
   "id": "ordinary-compromise",
   "metadata": {
    "scrolled": true
   },
   "outputs": [
    {
     "data": {
      "text/html": [
       "\n",
       "        <iframe\n",
       "            width=\"100%\"\n",
       "            height=\"350px\"\n",
       "            src=\"graph.html\"\n",
       "            frameborder=\"0\"\n",
       "            allowfullscreen\n",
       "        ></iframe>\n",
       "        "
      ],
      "text/plain": [
       "<IPython.lib.display.IFrame at 0x7fce6af8b160>"
      ]
     },
     "execution_count": 10,
     "metadata": {},
     "output_type": "execute_result"
    }
   ],
   "source": [
    "highlands_graph.plot()"
   ]
  },
  {
   "cell_type": "markdown",
   "id": "coated-circulation",
   "metadata": {},
   "source": [
    "pyvis out:\n",
    "![highlands_graphvis](https://i.ibb.co/8Mnr6GG/Captura-de-Tela-2022-03-26-a-s-11-15-16.png)"
   ]
  },
  {
   "cell_type": "markdown",
   "id": "german-melissa",
   "metadata": {},
   "source": [
    "## Queue\n",
    "\n",
    "Queue is a data-controller structure based on the FIFO (First-In, First-Out) premisse, where the elements are \"stacked\" one behind another, and the first element in the front of the queue are called, processed and then removed from the queue. This structure is needed to some of our search algorithms.\n",
    "\n",
    "<br />\n",
    "\n",
    "<img src=\"https://miro.medium.com/max/1400/1*zSjPOiijgcuCPvNcYdq_XQ.jpeg\" align=\"center\" width=\"400\" alt=\"Project icon\">\n",
    "\n",
    "<br />"
   ]
  },
  {
   "cell_type": "code",
   "execution_count": 11,
   "id": "configured-satisfaction",
   "metadata": {},
   "outputs": [],
   "source": [
    "class Queue:\n",
    "    def __init__(self, *elements):\n",
    "        self._elements = list(elements)\n",
    "\n",
    "    def empty(self):\n",
    "        return not bool(self._elements)\n",
    "        \n",
    "    def next(self):\n",
    "        if self.empty():\n",
    "            raise Exception('The queue is empty!')\n",
    "        return self._elements.pop(0)\n",
    "\n",
    "    def insert(self, element):\n",
    "        self._elements.append(element)\n",
    "\n",
    "    def length(self):\n",
    "        return len(self._elements)\n",
    "\n",
    "    def show(self, n=None):\n",
    "        if not n:\n",
    "            return self._elements\n",
    "        return self._elements[:n]\n",
    "\n",
    "    def __repr__(self):\n",
    "        return str(self._elements)\n",
    "\n",
    "    def __str__(self):\n",
    "        return str(self._elements)\n"
   ]
  },
  {
   "cell_type": "markdown",
   "id": "reserved-ideal",
   "metadata": {},
   "source": [
    "## Breadth-first search\n",
    "\n",
    "The breadth-first algorithm searches for the shallow next neighboors first. Starting from a initial node, we get all of his childs, and check all childs to test if one of them corresponds to our goal. In our dantasy abstraction, we are starting on **Case Town**. The *Case Town* **childs** are **Alexandrea** and **Por Town**, so the algorith will check both and compare if it is our goal (**Vault Gisley**), as none of them are our goal the algorithm will keep checking for the child of the childs, so it will test if the children of **Alexandrea** contains our goal, then the childs of **Por Town**. If none of them ar, the algorithms will keep the same logic, comparing child by child.\n",
    "\n",
    "<br />\n",
    "\n",
    "<img src=\"https://upload.wikimedia.org/wikipedia/commons/5/5d/Breadth-First-Search-Algorithm.gif\" align=\"center\" width=\"200\" alt=\"Project icon\">\n",
    "\n",
    "\n",
    "<br />\n",
    "\n",
    "Below there is a breadth-first search function based upon the pseudocode at [Russel & Norvig (2013)](https://www.amazon.com/Artificial-Intelligence-Modern-Approach-3rd/dp/0136042597):"
   ]
  },
  {
   "cell_type": "code",
   "execution_count": 100,
   "id": "colored-banking",
   "metadata": {},
   "outputs": [],
   "source": [
    "def breadth_first_search(graph, initial_node, goal_node):\n",
    "    node = initial_node\n",
    "    # starts a queue by the initial node\n",
    "    queue = Queue(*graph.get_edges(initial_node))\n",
    "    explored = []\n",
    "    solution = {'total_distance': 0}\n",
    "\n",
    "    # the steps and `i` variable are used to measure the big-O complexity\n",
    "    steps = []\n",
    "    i = 1\n",
    "    breadth_graph = Graph({})\n",
    "\n",
    "    while not queue.empty():\n",
    "        steps.append(i)\n",
    "        i += i\n",
    "\n",
    "        node = queue.next()\n",
    "        explored.append(node)\n",
    "        breadth_graph.add_node(node)\n",
    "\n",
    "        for child in graph.get_edges(node):\n",
    "            i += i\n",
    "            steps.append(i)\n",
    "            if child in explored:\n",
    "                continue\n",
    "\n",
    "            breadth_graph.add_node(child)\n",
    "            breadth_graph.add_edge(node, child)\n",
    "            explored.append(child)\n",
    "\n",
    "            if child == goal_node:\n",
    "                path = []\n",
    "                for town in explored:\n",
    "                    i += i\n",
    "                    steps.append(i)\n",
    "                    if town not in path:\n",
    "                        path.append(town)\n",
    "\n",
    "                solution['path'] = path\n",
    "                solution['full_path'] = explored\n",
    "                solution['graph'] = breadth_graph\n",
    "                solution['steps'] = steps\n",
    "                return solution\n",
    "\n",
    "            solution['total_distance'] += graph.get_edges(node)[child]\n",
    "            queue.insert(child)"
   ]
  },
  {
   "cell_type": "code",
   "execution_count": 101,
   "id": "4665e957",
   "metadata": {},
   "outputs": [
    {
     "data": {
      "text/html": [
       "<style type=\"text/css\">\n",
       "</style>\n",
       "<table id=\"T_1e670_\">\n",
       "  <thead>\n",
       "    <tr>\n",
       "      <th class=\"col_heading level0 col0\" >Results</th>\n",
       "    </tr>\n",
       "  </thead>\n",
       "  <tbody>\n",
       "    <tr>\n",
       "      <td id=\"T_1e670_row0_col0\" class=\"data row0 col0\" >Path: </td>\n",
       "    </tr>\n",
       "    <tr>\n",
       "      <td id=\"T_1e670_row1_col0\" class=\"data row1 col0\" >Case Town --> Alexandrea --> Por Town --> Fisherman House --> Loria --> Sonospla --> Island Tower --> Goblin Dew --> Caravan --> Desert Fortress --> Lokiana Town --> Elfenheim --> Arcadia --> Malma City --> Vault Gisley</td>\n",
       "    </tr>\n",
       "    <tr>\n",
       "      <td id=\"T_1e670_row2_col0\" class=\"data row2 col0\" >Steps:</td>\n",
       "    </tr>\n",
       "    <tr>\n",
       "      <td id=\"T_1e670_row3_col0\" class=\"data row3 col0\" >82</td>\n",
       "    </tr>\n",
       "    <tr>\n",
       "      <td id=\"T_1e670_row4_col0\" class=\"data row4 col0\" >Total distance:</td>\n",
       "    </tr>\n",
       "    <tr>\n",
       "      <td id=\"T_1e670_row5_col0\" class=\"data row5 col0\" >2469</td>\n",
       "    </tr>\n",
       "  </tbody>\n",
       "</table>\n"
      ],
      "text/plain": [
       "<pandas.io.formats.style.Styler at 0x7fce211dd040>"
      ]
     },
     "execution_count": 101,
     "metadata": {},
     "output_type": "execute_result"
    }
   ],
   "source": [
    "breadth_result = breadth_first_search(highlands_graph, 'Case Town', 'Vault Gisley')\n",
    "\n",
    "# Show table for better visualization\n",
    "path =  ' --> '.join(breadth_result['path'])\n",
    "pd.DataFrame(\n",
    "    [\n",
    "        'Path: ', path,\n",
    "        'Steps:', len(breadth_result['steps']),\n",
    "        'Total distance:', breadth_result[\"total_distance\"]\n",
    "    ],\n",
    "    columns=['Results']).style.hide_index()"
   ]
  },
  {
   "cell_type": "code",
   "execution_count": 102,
   "id": "extreme-print",
   "metadata": {
    "scrolled": false
   },
   "outputs": [
    {
     "data": {
      "text/html": [
       "\n",
       "        <iframe\n",
       "            width=\"100%\"\n",
       "            height=\"350px\"\n",
       "            src=\"graph.html\"\n",
       "            frameborder=\"0\"\n",
       "            allowfullscreen\n",
       "        ></iframe>\n",
       "        "
      ],
      "text/plain": [
       "<IPython.lib.display.IFrame at 0x7fce21386820>"
      ]
     },
     "execution_count": 102,
     "metadata": {},
     "output_type": "execute_result"
    }
   ],
   "source": [
    "breadth_result['graph'].plot()"
   ]
  },
  {
   "cell_type": "markdown",
   "id": "popular-holmes",
   "metadata": {},
   "source": [
    "pyvis out:\n",
    "![breadth_tree](https://i.ibb.co/wQwtmC3/Captura-de-Tela-2022-03-28-a-s-21-11-50.png)"
   ]
  },
  {
   "cell_type": "markdown",
   "id": "4a92e089",
   "metadata": {},
   "source": [
    "This search may repeat nodes until it finds the goal, no mathers the distance cost, it only searches for the goal itself, so this isnt the best choice algorith for our little friends to take the shortest path to reach the dragon mountain, by plotting the path it is possible to see that the connections may not make sense (Arcadia isnt linked to Elfenheim), because the repetition visits are ommited:"
   ]
  },
  {
   "cell_type": "code",
   "execution_count": 15,
   "id": "c1fc9097",
   "metadata": {
    "scrolled": true
   },
   "outputs": [
    {
     "data": {
      "text/html": [
       "\n",
       "        <iframe\n",
       "            width=\"100%\"\n",
       "            height=\"350px\"\n",
       "            src=\"result_net.html\"\n",
       "            frameborder=\"0\"\n",
       "            allowfullscreen\n",
       "        ></iframe>\n",
       "        "
      ],
      "text/plain": [
       "<IPython.lib.display.IFrame at 0x7fce24809580>"
      ]
     },
     "execution_count": 15,
     "metadata": {},
     "output_type": "execute_result"
    }
   ],
   "source": [
    "# Graph visualization\n",
    "result_net = Network(\n",
    "    height='350px',\n",
    "    width='100%',\n",
    "    bgcolor='#222222',\n",
    "    font_color='white',\n",
    "    notebook=True\n",
    ")\n",
    "# Add nodes to the network graph\n",
    "for node in breadth_result['path']:\n",
    "    result_net.add_node(node, node, title=node)\n",
    "    \n",
    "# link nodes with edges\n",
    "last = breadth_result['path'][0]\n",
    "for node in breadth_result['path']:\n",
    "    result_net.add_edge(node, last, value=node)\n",
    "    last = node\n",
    "\n",
    "# View graph\n",
    "result_net.show('result_net.html')"
   ]
  },
  {
   "cell_type": "markdown",
   "id": "22272de5",
   "metadata": {},
   "source": [
    "pyvis out: ![result_connection_path](https://i.ibb.co/crcQjBC/Screenshot-at-2022-03-28-16-43-52.png)"
   ]
  },
  {
   "cell_type": "markdown",
   "id": "innovative-dominican",
   "metadata": {},
   "source": [
    "It can be seen through the growth of the algorithm that it is a quadractic time complexity **O(n^2)** since `n` becomes exponential:"
   ]
  },
  {
   "cell_type": "code",
   "execution_count": 103,
   "id": "printable-guide",
   "metadata": {},
   "outputs": [
    {
     "data": {
      "image/png": "[encoded data removed]",
      "text/plain": [
       "<Figure size 576x396 with 1 Axes>"
      ]
     },
     "metadata": {},
     "output_type": "display_data"
    }
   ],
   "source": [
    "plt.plot(breadth_result['steps'])\n",
    "plt.xlabel('Steps')\n",
    "plt.ylabel('Complexity')\n",
    "plt.title('Highlands Breadth-First Search O(n)')\n",
    "plt.show()"
   ]
  },
  {
   "cell_type": "markdown",
   "id": "reliable-ownership",
   "metadata": {},
   "source": [
    "## Depth-first search\n",
    "\n",
    "The depth-first search algorthm always searches in the deepest childs nodes first. If the goal is not found on the child, then returns to the top root node and search deep on the childs of the upper neighboor.\n",
    "\n",
    "<img src=\"https://wiki.gladiabots.com/images/7/7f/Depth-First-Search.gif\" align=\"center\" width=\"200\" alt=\"Project icon\">\n",
    "\n",
    "\n",
    "\n",
    "<br />\n",
    "\n",
    "To make the implementation possible it is needed to define a **heap** structure, which is based on the LIFO (Last-in, First-out) premisse. This structure stacks elements over =, and removes the top one (the last inserted item) from the heap to be processed.\n",
    "\n",
    "<img src=\"https://previews.123rf.com/images/hanhanpeggy/hanhanpeggy0907/hanhanpeggy090700073/5212191-heap-of-plates.jpg\" align=\"center\" width=\"200\" alt=\"Project icon\">\n",
    "\n",
    "\n"
   ]
  },
  {
   "cell_type": "code",
   "execution_count": 68,
   "id": "bbdd7a1a",
   "metadata": {},
   "outputs": [],
   "source": [
    "class Heap:\n",
    "    def __init__(self, *elements):\n",
    "        self._items = [i for i in elements]\n",
    "\n",
    "    @property\n",
    "    def empty(self):\n",
    "        \"\"\" Checks if heap queue is empty \"\"\"\n",
    "        return not self._items\n",
    "        \n",
    "    def insert(self, item):\n",
    "        \"\"\" Inserts an item on the heap queue \"\"\"\n",
    "        self._items.append(item)\n",
    "\n",
    "    def next(self):\n",
    "        \"\"\" Returns top item from the stack \"\"\"\n",
    "        if self.empty:\n",
    "            raise Exception('HeapQueue is empty!')\n",
    "        return  self._items.pop(-1)\n",
    "\n",
    "    def __repr__(self):\n",
    "        return str(self._items)\n",
    "\n",
    "    def __str__(self):\n",
    "        return self._items"
   ]
  },
  {
   "cell_type": "code",
   "execution_count": 116,
   "id": "tracked-adult",
   "metadata": {},
   "outputs": [],
   "source": [
    "def depth_first_search(graph, initial_node, goal_node):\n",
    "    heap = Heap(*graph.get_edges(initial_node))\n",
    "    explored = []\n",
    "    solution = {'total_distance': 0}\n",
    "    depth_graph = Graph({})\n",
    "\n",
    "    # complexity measurement variables\n",
    "    i = 1\n",
    "    steps = []\n",
    "\n",
    "    while not heap.empty:\n",
    "        steps.append(i)\n",
    "        i += i\n",
    "\n",
    "        node = heap.next()\n",
    "        explored.append(node)\n",
    "        depth_graph.add_node(node)\n",
    "\n",
    "        for child in graph.get_edges(node):\n",
    "            i += i\n",
    "            steps.append(i)\n",
    "            if child in explored:\n",
    "                continue\n",
    "            explored.append(child)\n",
    "            depth_graph.add_node(child)\n",
    "            depth_graph.add_edge(node, child)\n",
    "            \n",
    "            if child == goal_node:\n",
    "                path = []\n",
    "                for town in explored:\n",
    "                    i += i\n",
    "                    steps.append(i)\n",
    "                    if town not in path:\n",
    "                        path.append(town)\n",
    "\n",
    "                solution['path'] = path\n",
    "                solution['full_path'] = explored\n",
    "                solution['graph'] = depth_graph\n",
    "                solution['steps'] = steps\n",
    "                return solution\n",
    "\n",
    "            solution['total_distance'] += graph.get_edges(node)[child]\n",
    "            heap.insert(child)"
   ]
  },
  {
   "cell_type": "code",
   "execution_count": 117,
   "id": "df1d7640",
   "metadata": {},
   "outputs": [
    {
     "data": {
      "text/html": [
       "<style type=\"text/css\">\n",
       "</style>\n",
       "<table id=\"T_74be8_\">\n",
       "  <thead>\n",
       "    <tr>\n",
       "      <th class=\"col_heading level0 col0\" >Results</th>\n",
       "    </tr>\n",
       "  </thead>\n",
       "  <tbody>\n",
       "    <tr>\n",
       "      <td id=\"T_74be8_row0_col0\" class=\"data row0 col0\" >Path: </td>\n",
       "    </tr>\n",
       "    <tr>\n",
       "      <td id=\"T_74be8_row1_col0\" class=\"data row1 col0\" >Por Town --> Case Town --> Fisherman House --> Loria --> Sonospla --> Caravan --> Desert Fortress --> Arcadia --> Malma City --> Vault Gisley</td>\n",
       "    </tr>\n",
       "    <tr>\n",
       "      <td id=\"T_74be8_row2_col0\" class=\"data row2 col0\" >Steps:</td>\n",
       "    </tr>\n",
       "    <tr>\n",
       "      <td id=\"T_74be8_row3_col0\" class=\"data row3 col0\" >31</td>\n",
       "    </tr>\n",
       "    <tr>\n",
       "      <td id=\"T_74be8_row4_col0\" class=\"data row4 col0\" >Total distance:</td>\n",
       "    </tr>\n",
       "    <tr>\n",
       "      <td id=\"T_74be8_row5_col0\" class=\"data row5 col0\" >2003</td>\n",
       "    </tr>\n",
       "  </tbody>\n",
       "</table>\n"
      ],
      "text/plain": [
       "<pandas.io.formats.style.Styler at 0x7fce20d7e100>"
      ]
     },
     "execution_count": 117,
     "metadata": {},
     "output_type": "execute_result"
    }
   ],
   "source": [
    "depth_result = depth_first_search(highlands_graph, 'Case Town', 'Vault Gisley')\n",
    "\n",
    "# Show table for better visualization\n",
    "path =  ' --> '.join(depth_result['path'])\n",
    "pd.DataFrame(\n",
    "    [\n",
    "        'Path: ', path,\n",
    "        'Steps:', len(depth_result['steps']),\n",
    "        'Total distance:', depth_result[\"total_distance\"]\n",
    "    ],\n",
    "    columns=['Results']).style.hide_index()"
   ]
  },
  {
   "cell_type": "code",
   "execution_count": 118,
   "id": "1abd08f2",
   "metadata": {
    "scrolled": false
   },
   "outputs": [
    {
     "data": {
      "text/html": [
       "\n",
       "        <iframe\n",
       "            width=\"100%\"\n",
       "            height=\"350px\"\n",
       "            src=\"graph.html\"\n",
       "            frameborder=\"0\"\n",
       "            allowfullscreen\n",
       "        ></iframe>\n",
       "        "
      ],
      "text/plain": [
       "<IPython.lib.display.IFrame at 0x7fce20fb84c0>"
      ]
     },
     "execution_count": 118,
     "metadata": {},
     "output_type": "execute_result"
    }
   ],
   "source": [
    "breadth_result['graph'].plot()"
   ]
  },
  {
   "cell_type": "markdown",
   "id": "5544ab23",
   "metadata": {},
   "source": [
    "pyvis out: ![depth_tree_plot](https://i.ibb.co/sPjNdMr/Screenshot-at-2022-03-29-11-55-23.png)"
   ]
  },
  {
   "cell_type": "code",
   "execution_count": 121,
   "id": "d9b915e9",
   "metadata": {
    "scrolled": true
   },
   "outputs": [
    {
     "data": {
      "text/html": [
       "\n",
       "        <iframe\n",
       "            width=\"100%\"\n",
       "            height=\"350px\"\n",
       "            src=\"result_net.html\"\n",
       "            frameborder=\"0\"\n",
       "            allowfullscreen\n",
       "        ></iframe>\n",
       "        "
      ],
      "text/plain": [
       "<IPython.lib.display.IFrame at 0x7fce20cd1a90>"
      ]
     },
     "execution_count": 121,
     "metadata": {},
     "output_type": "execute_result"
    }
   ],
   "source": [
    "# Graph visualization\n",
    "result_net = Network(\n",
    "    height='350px',\n",
    "    width='100%',\n",
    "    bgcolor='#222222',\n",
    "    font_color='white',\n",
    "    notebook=True\n",
    ")\n",
    "# Add nodes to the network graph\n",
    "for node in depth_result['path']:\n",
    "    result_net.add_node(node, node, title=node)\n",
    "    \n",
    "# link nodes with edges\n",
    "last = depth_result['path'][0]\n",
    "for node in depth_result['path']:\n",
    "    result_net.add_edge(node, last, value=node)\n",
    "    last = node\n",
    "\n",
    "# View graph\n",
    "result_net.show('result_net.html')"
   ]
  },
  {
   "cell_type": "markdown",
   "id": "2f813d5b",
   "metadata": {},
   "source": [
    "pyvis out:\n",
    "![depth_path](https://i.ibb.co/PFvKBs2/Screenshot-at-2022-03-29-13-06-01.png)"
   ]
  },
  {
   "cell_type": "code",
   "execution_count": 119,
   "id": "10e3c34f",
   "metadata": {
    "scrolled": true
   },
   "outputs": [
    {
     "data": {
      "image/png": "[encoded data removed]",
      "text/plain": [
       "<Figure size 576x396 with 1 Axes>"
      ]
     },
     "metadata": {},
     "output_type": "display_data"
    }
   ],
   "source": [
    "plt.plot(depth_result['steps'])\n",
    "plt.xlabel('Steps')\n",
    "plt.ylabel('Complexity')\n",
    "plt.title('Highlands Depth-First Search O(n^2)')\n",
    "plt.show()"
   ]
  },
  {
   "cell_type": "markdown",
   "id": "2b8133ca",
   "metadata": {},
   "source": [
    "## References\n",
    "\n",
    "<br />\n",
    "\n",
    "[RUSSEL, Stuart; NORVIG, Peter. **Artificial Intelligence**: A modern approach. 3. ed., 2013;](https://www.amazon.com/Artificial-Intelligence-Modern-Approach-3rd/dp/0136042597)"
   ]
  },
  {
   "cell_type": "code",
   "execution_count": null,
   "id": "8de1d42a",
   "metadata": {},
   "outputs": [],
   "source": []
  },
  {
   "cell_type": "code",
   "execution_count": null,
   "id": "e96e1c8f",
   "metadata": {},
   "outputs": [],
   "source": []
  },
  {
   "cell_type": "code",
   "execution_count": null,
   "id": "7812b389",
   "metadata": {},
   "outputs": [],
   "source": []
  }
 ],
 "metadata": {
  "kernelspec": {
   "display_name": "Python 3 (ipykernel)",
   "language": "python",
   "name": "python3"
  },
  "language_info": {
   "codemirror_mode": {
    "name": "ipython",
    "version": 3
   },
   "file_extension": ".py",
   "mimetype": "text/x-python",
   "name": "python",
   "nbconvert_exporter": "python",
   "pygments_lexer": "ipython3",
   "version": "3.8.10"
  }
 },
 "nbformat": 4,
 "nbformat_minor": 5
}
