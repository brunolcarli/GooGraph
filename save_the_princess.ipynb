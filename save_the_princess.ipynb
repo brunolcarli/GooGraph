{
 "cells": [
  {
   "cell_type": "markdown",
   "metadata": {},
   "source": [
    "```\n",
    "@beelzebruno\n",
    "2022\n",
    "```\n",
    "\n",
    "<hr />\n",
    "\n",
    "# Save te princess\n",
    "\n",
    "This is an ludic abstraction to a graph extraction from a given matrix.\n",
    "Sometimes we got problems that implies the use os search algorithms to find a\n",
    "solution to a problem, and this problem comes presented in the shape of a matrix.\n",
    "\n",
    "Suppose we have a scenary where theres a lost princess somewhere in a region\n",
    "mapped in a (x, y) coordinates chart, as well we have a hero in the mission of\n",
    "find and rescue the lost princess:\n",
    "\n",
    "![lost princess map](https://github.com/brunolcarli/GooGraph/blob/master/static/img/hero_princess_map.png?raw=true)\n",
    "\n",
    "The red **X** marks are places the hero cannot pass or access.\n",
    "\n",
    "**Find solutions to help our hero search the best path to the lost princess**"
   ]
  },
  {
   "cell_type": "code",
   "execution_count": null,
   "metadata": {},
   "outputs": [],
   "source": []
  }
 ],
 "metadata": {
  "interpreter": {
   "hash": "6da5ac439326796648d79b746e4355d6ef721eb3d4f90f3259ffa5819c9eee8e"
  },
  "kernelspec": {
   "display_name": "Python 3.8.2 ('ml')",
   "language": "python",
   "name": "python3"
  },
  "language_info": {
   "name": "python",
   "version": "3.8.2"
  },
  "orig_nbformat": 4
 },
 "nbformat": 4,
 "nbformat_minor": 2
}
